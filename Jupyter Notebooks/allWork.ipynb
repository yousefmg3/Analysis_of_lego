{
 "cells": [
  {
   "cell_type": "markdown",
   "metadata": {},
   "source": [
    "# IN3061/INM430 - Tiny DS Project Progress Report\n",
    "\n",
    "\n",
    "***\n",
    "\n",
    " Student Name: Yousef Gharib\n",
    "\n",
    " Project Title: Analysis of Lego from years 1950-2017\n",
    "\n",
    "***\n",
    "\n",
    "\n"
   ]
  },
  {
   "cell_type": "markdown",
   "metadata": {},
   "source": [
    "## Datasets\n",
    "I am using 2 Kaggle datasets for this project. \n",
    "* https://www.kaggle.com/rtatman/lego-database \n",
    "* https://www.kaggle.com/mterzolo/lego-sets\n",
    "\n",
    "The lego database contains information on lego datasets from 1950 to 2017 in the form of 8 csv files which can be merged and a schema on how each csv file links to eachother, the lego sets contains 1 csv file which can be merged to a few of the csv files from the lego database. The only limitation is that lego-sets may not contain all the sets the lego-database contains.\n"
   ]
  },
  {
   "cell_type": "code",
   "execution_count": 58,
   "metadata": {},
   "outputs": [],
   "source": [
    "# Importing Libraries\n",
    "from IPython.display import Image\n",
    "import pandas as pd\n",
    "import matplotlib.pyplot as plt\n",
    "plt.style.use(\"seaborn\")\n",
    "import numpy as np\n",
    "from sklearn import datasets, linear_model\n",
    "import scipy.stats as sc\n",
    "from sklearn.linear_model import LinearRegression\n",
    "from sklearn.metrics import mean_squared_error, r2_score\n",
    "import statsmodels.api as sm\n",
    "from sklearn.model_selection import train_test_split\n",
    "from sklearn.model_selection import cross_val_score, cross_val_predict "
   ]
  },
  {
   "cell_type": "code",
   "execution_count": 4,
   "metadata": {},
   "outputs": [
    {
     "data": {
      "image/png": "[encoded data removed]",
      "text/plain": [
       "<IPython.core.display.Image object>"
      ]
     },
     "execution_count": 4,
     "metadata": {},
     "output_type": "execute_result"
    }
   ],
   "source": [
    "#Importing downloads_schema to help show which csv files can be merged together\n",
    "\n",
    "Image(filename='downloads_schema.png')"
   ]
  },
  {
   "cell_type": "code",
   "execution_count": 7,
   "metadata": {},
   "outputs": [],
   "source": [
    "#Importing all datasets\n",
    "\n",
    "# Sets from Lego database\n",
    "colors = pd.read_csv(\"colors.csv\")\n",
    "inv_parts = pd.read_csv(\"inventory_parts.csv\")\n",
    "inv = pd.read_csv(\"inventories.csv\")\n",
    "inv_sets = pd.read_csv(\"inventory_sets.csv\")\n",
    "parts = pd.read_csv(\"parts.csv\")\n",
    "part_cat = pd.read_csv(\"part_categories.csv\")\n",
    "sets = pd.read_csv(\"sets.csv\")\n",
    "themes = pd.read_csv(\"themes.csv\")\n",
    "\n",
    "# Second dataset\n",
    "lego_sets = pd.read_csv(\"lego_sets.csv\")"
   ]
  },
  {
   "cell_type": "markdown",
   "metadata": {},
   "source": [
    "### Changing column names\n",
    "Some datasets have different names for columns representing the same thing, for example color.csv and themes.csv have a coloumn called id\n",
    "\n",
    "I created a function which renames columns so i can have unique columns and can merge datasets in the schema"
   ]
  },
  {
   "cell_type": "code",
   "execution_count": 8,
   "metadata": {},
   "outputs": [],
   "source": [
    "def Change_column_name(df, old, new): # function changing column names\n",
    "    df.rename(columns={old:new}, inplace=True)\n",
    " \n",
    "# Changing color.csv columns\n",
    "Change_column_name(colors, 'id', 'color_id')\n",
    "Change_column_name(colors, 'name', 'color_name')\n",
    "\n",
    "#Changing parts.csv columns\n",
    "Change_column_name(parts, 'name', 'part_name')\n",
    "\n",
    "#Changing part_cat.csv columns\n",
    "Change_column_name(part_cat, 'id', 'part_cat_id')\n",
    "\n",
    "#Changin themes.csv columns\n",
    "Change_column_name(themes, 'id', 'theme_id')\n",
    "Change_column_name(themes, 'name', 'theme_name')\n",
    "\n",
    "#Changing sets.csv columns\n",
    "Change_column_name(sets, 'name', 'set_name')\n",
    "\n",
    "#Changing inventories.csv columns\n",
    "Change_column_name(inv, 'id', 'inventory_id')"
   ]
  },
  {
   "cell_type": "markdown",
   "metadata": {},
   "source": [
    "### Binning years\n",
    "\n",
    "Binning years in sets.csv since not all years are included this makes comparisons easier. Information is lost when merging the Lego database and second dataset since the mutual column does not contain the exact same information for both datasets\n"
   ]
  },
  {
   "cell_type": "code",
   "execution_count": 9,
   "metadata": {},
   "outputs": [
    {
     "name": "stderr",
     "output_type": "stream",
     "text": [
      "C:\\Users\\youse\\Anaconda3\\lib\\site-packages\\ipykernel_launcher.py:10: SettingWithCopyWarning: \n",
      "A value is trying to be set on a copy of a slice from a DataFrame\n",
      "\n",
      "See the caveats in the documentation: https://pandas.pydata.org/pandas-docs/stable/user_guide/indexing.html#returning-a-view-versus-a-copy\n",
      "  # Remove the CWD from sys.path while we load stuff.\n",
      "C:\\Users\\youse\\Anaconda3\\lib\\site-packages\\pandas\\core\\indexing.py:670: SettingWithCopyWarning: \n",
      "A value is trying to be set on a copy of a slice from a DataFrame\n",
      "\n",
      "See the caveats in the documentation: https://pandas.pydata.org/pandas-docs/stable/user_guide/indexing.html#returning-a-view-versus-a-copy\n",
      "  iloc._setitem_with_indexer(indexer, value)\n",
      "C:\\Users\\youse\\Anaconda3\\lib\\site-packages\\ipykernel_launcher.py:12: SettingWithCopyWarning: \n",
      "A value is trying to be set on a copy of a slice from a DataFrame\n",
      "\n",
      "See the caveats in the documentation: https://pandas.pydata.org/pandas-docs/stable/user_guide/indexing.html#returning-a-view-versus-a-copy\n",
      "  if sys.path[0] == '':\n",
      "C:\\Users\\youse\\Anaconda3\\lib\\site-packages\\ipykernel_launcher.py:8: SettingWithCopyWarning: \n",
      "A value is trying to be set on a copy of a slice from a DataFrame\n",
      "\n",
      "See the caveats in the documentation: https://pandas.pydata.org/pandas-docs/stable/user_guide/indexing.html#returning-a-view-versus-a-copy\n",
      "  \n",
      "C:\\Users\\youse\\Anaconda3\\lib\\site-packages\\ipykernel_launcher.py:14: SettingWithCopyWarning: \n",
      "A value is trying to be set on a copy of a slice from a DataFrame\n",
      "\n",
      "See the caveats in the documentation: https://pandas.pydata.org/pandas-docs/stable/user_guide/indexing.html#returning-a-view-versus-a-copy\n",
      "  \n",
      "C:\\Users\\youse\\Anaconda3\\lib\\site-packages\\ipykernel_launcher.py:16: SettingWithCopyWarning: \n",
      "A value is trying to be set on a copy of a slice from a DataFrame\n",
      "\n",
      "See the caveats in the documentation: https://pandas.pydata.org/pandas-docs/stable/user_guide/indexing.html#returning-a-view-versus-a-copy\n",
      "  app.launch_new_instance()\n",
      "C:\\Users\\youse\\Anaconda3\\lib\\site-packages\\ipykernel_launcher.py:18: SettingWithCopyWarning: \n",
      "A value is trying to be set on a copy of a slice from a DataFrame\n",
      "\n",
      "See the caveats in the documentation: https://pandas.pydata.org/pandas-docs/stable/user_guide/indexing.html#returning-a-view-versus-a-copy\n",
      "C:\\Users\\youse\\Anaconda3\\lib\\site-packages\\ipykernel_launcher.py:6: SettingWithCopyWarning: \n",
      "A value is trying to be set on a copy of a slice from a DataFrame\n",
      "\n",
      "See the caveats in the documentation: https://pandas.pydata.org/pandas-docs/stable/user_guide/indexing.html#returning-a-view-versus-a-copy\n",
      "  \n"
     ]
    }
   ],
   "source": [
    "#Creating a new column assigning year to decade\n",
    "sets[\"binned_years\"] = 0\n",
    "for i in range(len(sets)):\n",
    "    if sets[\"year\"][i] < 1960 and sets[\"year\"][i] >= 1950:\n",
    "        sets[\"binned_years\"][i] = \"1950s\"\n",
    "    elif sets[\"year\"][i] < 1970 and sets[\"year\"][i] >= 1960:\n",
    "        sets[\"binned_years\"][i] = \"1960s\"\n",
    "    elif sets[\"year\"][i] < 1980 and sets[\"year\"][i] >= 1970:\n",
    "        sets[\"binned_years\"][i] = \"1970s\"\n",
    "    elif sets[\"year\"][i] < 1990 and sets[\"year\"][i] >= 1980:\n",
    "        sets[\"binned_years\"][i] = \"1980s\"\n",
    "    elif sets[\"year\"][i] < 2000 and sets[\"year\"][i] >= 1990:\n",
    "        sets[\"binned_years\"][i] = \"1990s\"\n",
    "    elif sets[\"year\"][i] < 2010 and sets[\"year\"][i] >= 2000:\n",
    "        sets[\"binned_years\"][i] = \"2000s\"\n",
    "    elif sets[\"year\"][i] < 2020 and sets[\"year\"][i] >= 2010:\n",
    "        sets[\"binned_years\"][i] = \"2010s\""
   ]
  },
  {
   "cell_type": "markdown",
   "metadata": {},
   "source": [
    "### Merging datasets\n",
    "\n",
    "Merging datasets helps us connect and compare information. \n",
    "\n",
    "To compare how colours have changed we merge to form a dataset containing binned years as well as all the pieces used and their colour"
   ]
  },
  {
   "cell_type": "code",
   "execution_count": 12,
   "metadata": {},
   "outputs": [
    {
     "data": {
      "text/html": [
       "<div>\n",
       "<style scoped>\n",
       "    .dataframe tbody tr th:only-of-type {\n",
       "        vertical-align: middle;\n",
       "    }\n",
       "\n",
       "    .dataframe tbody tr th {\n",
       "        vertical-align: top;\n",
       "    }\n",
       "\n",
       "    .dataframe thead th {\n",
       "        text-align: right;\n",
       "    }\n",
       "</style>\n",
       "<table border=\"1\" class=\"dataframe\">\n",
       "  <thead>\n",
       "    <tr style=\"text-align: right;\">\n",
       "      <th></th>\n",
       "      <th>color_id</th>\n",
       "      <th>color_name</th>\n",
       "      <th>rgb</th>\n",
       "      <th>is_trans</th>\n",
       "      <th>inventory_id</th>\n",
       "      <th>part_num</th>\n",
       "      <th>quantity</th>\n",
       "      <th>is_spare</th>\n",
       "    </tr>\n",
       "  </thead>\n",
       "  <tbody>\n",
       "    <tr>\n",
       "      <th>0</th>\n",
       "      <td>-1</td>\n",
       "      <td>Unknown</td>\n",
       "      <td>0033B2</td>\n",
       "      <td>f</td>\n",
       "      <td>80</td>\n",
       "      <td>belvfair6</td>\n",
       "      <td>1</td>\n",
       "      <td>f</td>\n",
       "    </tr>\n",
       "    <tr>\n",
       "      <th>1</th>\n",
       "      <td>-1</td>\n",
       "      <td>Unknown</td>\n",
       "      <td>0033B2</td>\n",
       "      <td>f</td>\n",
       "      <td>80</td>\n",
       "      <td>belvfem26</td>\n",
       "      <td>1</td>\n",
       "      <td>f</td>\n",
       "    </tr>\n",
       "    <tr>\n",
       "      <th>2</th>\n",
       "      <td>-1</td>\n",
       "      <td>Unknown</td>\n",
       "      <td>0033B2</td>\n",
       "      <td>f</td>\n",
       "      <td>80</td>\n",
       "      <td>belvmale13</td>\n",
       "      <td>1</td>\n",
       "      <td>f</td>\n",
       "    </tr>\n",
       "  </tbody>\n",
       "</table>\n",
       "</div>"
      ],
      "text/plain": [
       "   color_id color_name     rgb is_trans  inventory_id    part_num  quantity  \\\n",
       "0        -1    Unknown  0033B2        f            80   belvfair6         1   \n",
       "1        -1    Unknown  0033B2        f            80   belvfem26         1   \n",
       "2        -1    Unknown  0033B2        f            80  belvmale13         1   \n",
       "\n",
       "  is_spare  \n",
       "0        f  \n",
       "1        f  \n",
       "2        f  "
      ]
     },
     "execution_count": 12,
     "metadata": {},
     "output_type": "execute_result"
    }
   ],
   "source": [
    "c_ip = pd.merge(colors, inv_parts, on='color_id') #Merging colors.csv and inv_parts.csv on color_id\n",
    "c_ip.head(3) # Dataset of lego pieces and colours"
   ]
  },
  {
   "cell_type": "code",
   "execution_count": 13,
   "metadata": {},
   "outputs": [
    {
     "data": {
      "text/html": [
       "<div>\n",
       "<style scoped>\n",
       "    .dataframe tbody tr th:only-of-type {\n",
       "        vertical-align: middle;\n",
       "    }\n",
       "\n",
       "    .dataframe tbody tr th {\n",
       "        vertical-align: top;\n",
       "    }\n",
       "\n",
       "    .dataframe thead th {\n",
       "        text-align: right;\n",
       "    }\n",
       "</style>\n",
       "<table border=\"1\" class=\"dataframe\">\n",
       "  <thead>\n",
       "    <tr style=\"text-align: right;\">\n",
       "      <th></th>\n",
       "      <th>color_id</th>\n",
       "      <th>color_name</th>\n",
       "      <th>rgb</th>\n",
       "      <th>is_trans</th>\n",
       "      <th>inventory_id</th>\n",
       "      <th>part_num</th>\n",
       "      <th>quantity</th>\n",
       "      <th>is_spare</th>\n",
       "    </tr>\n",
       "  </thead>\n",
       "  <tbody>\n",
       "    <tr>\n",
       "      <th>580248</th>\n",
       "      <td>9999</td>\n",
       "      <td>[No Color]</td>\n",
       "      <td>05131D</td>\n",
       "      <td>f</td>\n",
       "      <td>18322</td>\n",
       "      <td>75171stkpr01</td>\n",
       "      <td>1</td>\n",
       "      <td>f</td>\n",
       "    </tr>\n",
       "    <tr>\n",
       "      <th>580249</th>\n",
       "      <td>9999</td>\n",
       "      <td>[No Color]</td>\n",
       "      <td>05131D</td>\n",
       "      <td>f</td>\n",
       "      <td>18704</td>\n",
       "      <td>34100</td>\n",
       "      <td>1</td>\n",
       "      <td>f</td>\n",
       "    </tr>\n",
       "    <tr>\n",
       "      <th>580250</th>\n",
       "      <td>9999</td>\n",
       "      <td>[No Color]</td>\n",
       "      <td>05131D</td>\n",
       "      <td>f</td>\n",
       "      <td>18708</td>\n",
       "      <td>20243</td>\n",
       "      <td>1</td>\n",
       "      <td>f</td>\n",
       "    </tr>\n",
       "  </tbody>\n",
       "</table>\n",
       "</div>"
      ],
      "text/plain": [
       "        color_id  color_name     rgb is_trans  inventory_id      part_num  \\\n",
       "580248      9999  [No Color]  05131D        f         18322  75171stkpr01   \n",
       "580249      9999  [No Color]  05131D        f         18704         34100   \n",
       "580250      9999  [No Color]  05131D        f         18708         20243   \n",
       "\n",
       "        quantity is_spare  \n",
       "580248         1        f  \n",
       "580249         1        f  \n",
       "580250         1        f  "
      ]
     },
     "execution_count": 13,
     "metadata": {},
     "output_type": "execute_result"
    }
   ],
   "source": [
    "c_ip.tail(3) "
   ]
  },
  {
   "cell_type": "markdown",
   "metadata": {},
   "source": [
    "\"Unknown\" and \"[No Color]\" may be considered outliers. After inpecting part_num with those 2 colours, they represent unique pieces such as stickers or minifigures and are not removed from the dataset."
   ]
  },
  {
   "cell_type": "code",
   "execution_count": 15,
   "metadata": {},
   "outputs": [
    {
     "data": {
      "text/html": [
       "<div>\n",
       "<style scoped>\n",
       "    .dataframe tbody tr th:only-of-type {\n",
       "        vertical-align: middle;\n",
       "    }\n",
       "\n",
       "    .dataframe tbody tr th {\n",
       "        vertical-align: top;\n",
       "    }\n",
       "\n",
       "    .dataframe thead th {\n",
       "        text-align: right;\n",
       "    }\n",
       "</style>\n",
       "<table border=\"1\" class=\"dataframe\">\n",
       "  <thead>\n",
       "    <tr style=\"text-align: right;\">\n",
       "      <th></th>\n",
       "      <th>set_num</th>\n",
       "      <th>set_name</th>\n",
       "      <th>year</th>\n",
       "      <th>theme_id</th>\n",
       "      <th>num_parts</th>\n",
       "      <th>binned_years</th>\n",
       "      <th>theme_name</th>\n",
       "      <th>parent_id</th>\n",
       "    </tr>\n",
       "  </thead>\n",
       "  <tbody>\n",
       "    <tr>\n",
       "      <th>0</th>\n",
       "      <td>00-1</td>\n",
       "      <td>Weetabix Castle</td>\n",
       "      <td>1970</td>\n",
       "      <td>414</td>\n",
       "      <td>471</td>\n",
       "      <td>1970s</td>\n",
       "      <td>Castle</td>\n",
       "      <td>411.0</td>\n",
       "    </tr>\n",
       "    <tr>\n",
       "      <th>1</th>\n",
       "      <td>0011-2</td>\n",
       "      <td>Town Mini-Figures</td>\n",
       "      <td>1978</td>\n",
       "      <td>84</td>\n",
       "      <td>12</td>\n",
       "      <td>1970s</td>\n",
       "      <td>Supplemental</td>\n",
       "      <td>67.0</td>\n",
       "    </tr>\n",
       "    <tr>\n",
       "      <th>2</th>\n",
       "      <td>2181-1</td>\n",
       "      <td>Infomaniac</td>\n",
       "      <td>1997</td>\n",
       "      <td>84</td>\n",
       "      <td>4</td>\n",
       "      <td>1990s</td>\n",
       "      <td>Supplemental</td>\n",
       "      <td>67.0</td>\n",
       "    </tr>\n",
       "  </tbody>\n",
       "</table>\n",
       "</div>"
      ],
      "text/plain": [
       "  set_num           set_name  year  theme_id  num_parts binned_years  \\\n",
       "0    00-1    Weetabix Castle  1970       414        471        1970s   \n",
       "1  0011-2  Town Mini-Figures  1978        84         12        1970s   \n",
       "2  2181-1         Infomaniac  1997        84          4        1990s   \n",
       "\n",
       "     theme_name  parent_id  \n",
       "0        Castle      411.0  \n",
       "1  Supplemental       67.0  \n",
       "2  Supplemental       67.0  "
      ]
     },
     "execution_count": 15,
     "metadata": {},
     "output_type": "execute_result"
    }
   ],
   "source": [
    "s_t=pd.merge(sets,themes, on=\"theme_id\") # Merging sets.csv and themes.csv on column theme_id\n",
    "s_t.head(3) # Dataset of sets and themes"
   ]
  },
  {
   "cell_type": "code",
   "execution_count": 17,
   "metadata": {},
   "outputs": [
    {
     "data": {
      "text/html": [
       "<div>\n",
       "<style scoped>\n",
       "    .dataframe tbody tr th:only-of-type {\n",
       "        vertical-align: middle;\n",
       "    }\n",
       "\n",
       "    .dataframe tbody tr th {\n",
       "        vertical-align: top;\n",
       "    }\n",
       "\n",
       "    .dataframe thead th {\n",
       "        text-align: right;\n",
       "    }\n",
       "</style>\n",
       "<table border=\"1\" class=\"dataframe\">\n",
       "  <thead>\n",
       "    <tr style=\"text-align: right;\">\n",
       "      <th></th>\n",
       "      <th>set_num</th>\n",
       "      <th>set_name</th>\n",
       "      <th>year</th>\n",
       "      <th>theme_id</th>\n",
       "      <th>num_parts</th>\n",
       "      <th>binned_years</th>\n",
       "      <th>theme_name</th>\n",
       "      <th>parent_id</th>\n",
       "      <th>inventory_id</th>\n",
       "      <th>version</th>\n",
       "    </tr>\n",
       "  </thead>\n",
       "  <tbody>\n",
       "    <tr>\n",
       "      <th>0</th>\n",
       "      <td>00-1</td>\n",
       "      <td>Weetabix Castle</td>\n",
       "      <td>1970</td>\n",
       "      <td>414</td>\n",
       "      <td>471</td>\n",
       "      <td>1970s</td>\n",
       "      <td>Castle</td>\n",
       "      <td>411.0</td>\n",
       "      <td>5574</td>\n",
       "      <td>1</td>\n",
       "    </tr>\n",
       "    <tr>\n",
       "      <th>1</th>\n",
       "      <td>0011-2</td>\n",
       "      <td>Town Mini-Figures</td>\n",
       "      <td>1978</td>\n",
       "      <td>84</td>\n",
       "      <td>12</td>\n",
       "      <td>1970s</td>\n",
       "      <td>Supplemental</td>\n",
       "      <td>67.0</td>\n",
       "      <td>5087</td>\n",
       "      <td>1</td>\n",
       "    </tr>\n",
       "    <tr>\n",
       "      <th>2</th>\n",
       "      <td>2181-1</td>\n",
       "      <td>Infomaniac</td>\n",
       "      <td>1997</td>\n",
       "      <td>84</td>\n",
       "      <td>4</td>\n",
       "      <td>1990s</td>\n",
       "      <td>Supplemental</td>\n",
       "      <td>67.0</td>\n",
       "      <td>14456</td>\n",
       "      <td>1</td>\n",
       "    </tr>\n",
       "  </tbody>\n",
       "</table>\n",
       "</div>"
      ],
      "text/plain": [
       "  set_num           set_name  year  theme_id  num_parts binned_years  \\\n",
       "0    00-1    Weetabix Castle  1970       414        471        1970s   \n",
       "1  0011-2  Town Mini-Figures  1978        84         12        1970s   \n",
       "2  2181-1         Infomaniac  1997        84          4        1990s   \n",
       "\n",
       "     theme_name  parent_id  inventory_id  version  \n",
       "0        Castle      411.0          5574        1  \n",
       "1  Supplemental       67.0          5087        1  \n",
       "2  Supplemental       67.0         14456        1  "
      ]
     },
     "execution_count": 17,
     "metadata": {},
     "output_type": "execute_result"
    }
   ],
   "source": [
    "s_t_inv = pd.merge(s_t,inv,on=\"set_num\") # Merging s_t with inv.csv on set_num\n",
    "s_t_inv.head(3) # Dataset of sets, themes and inventories"
   ]
  },
  {
   "cell_type": "code",
   "execution_count": 18,
   "metadata": {},
   "outputs": [
    {
     "data": {
      "text/html": [
       "<div>\n",
       "<style scoped>\n",
       "    .dataframe tbody tr th:only-of-type {\n",
       "        vertical-align: middle;\n",
       "    }\n",
       "\n",
       "    .dataframe tbody tr th {\n",
       "        vertical-align: top;\n",
       "    }\n",
       "\n",
       "    .dataframe thead th {\n",
       "        text-align: right;\n",
       "    }\n",
       "</style>\n",
       "<table border=\"1\" class=\"dataframe\">\n",
       "  <thead>\n",
       "    <tr style=\"text-align: right;\">\n",
       "      <th></th>\n",
       "      <th>set_num</th>\n",
       "      <th>set_name</th>\n",
       "      <th>year</th>\n",
       "      <th>theme_id</th>\n",
       "      <th>num_parts</th>\n",
       "      <th>binned_years</th>\n",
       "      <th>theme_name</th>\n",
       "      <th>parent_id</th>\n",
       "      <th>inventory_id</th>\n",
       "      <th>version</th>\n",
       "      <th>color_id</th>\n",
       "      <th>color_name</th>\n",
       "      <th>rgb</th>\n",
       "      <th>is_trans</th>\n",
       "      <th>part_num</th>\n",
       "      <th>quantity</th>\n",
       "      <th>is_spare</th>\n",
       "    </tr>\n",
       "  </thead>\n",
       "  <tbody>\n",
       "    <tr>\n",
       "      <th>0</th>\n",
       "      <td>00-1</td>\n",
       "      <td>Weetabix Castle</td>\n",
       "      <td>1970</td>\n",
       "      <td>414</td>\n",
       "      <td>471</td>\n",
       "      <td>1970s</td>\n",
       "      <td>Castle</td>\n",
       "      <td>411.0</td>\n",
       "      <td>5574</td>\n",
       "      <td>1</td>\n",
       "      <td>0</td>\n",
       "      <td>Black</td>\n",
       "      <td>05131D</td>\n",
       "      <td>f</td>\n",
       "      <td>3062a</td>\n",
       "      <td>8</td>\n",
       "      <td>f</td>\n",
       "    </tr>\n",
       "    <tr>\n",
       "      <th>1</th>\n",
       "      <td>00-1</td>\n",
       "      <td>Weetabix Castle</td>\n",
       "      <td>1970</td>\n",
       "      <td>414</td>\n",
       "      <td>471</td>\n",
       "      <td>1970s</td>\n",
       "      <td>Castle</td>\n",
       "      <td>411.0</td>\n",
       "      <td>5574</td>\n",
       "      <td>1</td>\n",
       "      <td>1</td>\n",
       "      <td>Blue</td>\n",
       "      <td>0055BF</td>\n",
       "      <td>f</td>\n",
       "      <td>3001a</td>\n",
       "      <td>4</td>\n",
       "      <td>f</td>\n",
       "    </tr>\n",
       "    <tr>\n",
       "      <th>2</th>\n",
       "      <td>00-1</td>\n",
       "      <td>Weetabix Castle</td>\n",
       "      <td>1970</td>\n",
       "      <td>414</td>\n",
       "      <td>471</td>\n",
       "      <td>1970s</td>\n",
       "      <td>Castle</td>\n",
       "      <td>411.0</td>\n",
       "      <td>5574</td>\n",
       "      <td>1</td>\n",
       "      <td>1</td>\n",
       "      <td>Blue</td>\n",
       "      <td>0055BF</td>\n",
       "      <td>f</td>\n",
       "      <td>3003</td>\n",
       "      <td>3</td>\n",
       "      <td>f</td>\n",
       "    </tr>\n",
       "  </tbody>\n",
       "</table>\n",
       "</div>"
      ],
      "text/plain": [
       "  set_num         set_name  year  theme_id  num_parts binned_years theme_name  \\\n",
       "0    00-1  Weetabix Castle  1970       414        471        1970s     Castle   \n",
       "1    00-1  Weetabix Castle  1970       414        471        1970s     Castle   \n",
       "2    00-1  Weetabix Castle  1970       414        471        1970s     Castle   \n",
       "\n",
       "   parent_id  inventory_id  version  color_id color_name     rgb is_trans  \\\n",
       "0      411.0          5574        1         0      Black  05131D        f   \n",
       "1      411.0          5574        1         1       Blue  0055BF        f   \n",
       "2      411.0          5574        1         1       Blue  0055BF        f   \n",
       "\n",
       "  part_num  quantity is_spare  \n",
       "0    3062a         8        f  \n",
       "1    3001a         4        f  \n",
       "2     3003         3        f  "
      ]
     },
     "execution_count": 18,
     "metadata": {},
     "output_type": "execute_result"
    }
   ],
   "source": [
    "stc = pd.merge(s_t_inv,c_ip,on=\"inventory_id\") # Merging s_t_inv and c_ip on Inventory_id\n",
    "stc.head(3) # Dataset allowing us to compare colours used each decade."
   ]
  },
  {
   "cell_type": "markdown",
   "metadata": {},
   "source": [
    "A lot of datasets had to be merged to allow colours to be compared. \n",
    "\n",
    "### Data derivation\n",
    "\n",
    "Grouping by binned years and colour makes it much easier to create graphs comparing how colours have changed, and a new column is created telling us the percentage of each colour used per decade."
   ]
  },
  {
   "cell_type": "code",
   "execution_count": 20,
   "metadata": {},
   "outputs": [
    {
     "name": "stderr",
     "output_type": "stream",
     "text": [
      "C:\\Users\\youse\\Anaconda3\\lib\\site-packages\\ipykernel_launcher.py:7: SettingWithCopyWarning: \n",
      "A value is trying to be set on a copy of a slice from a DataFrame\n",
      "\n",
      "See the caveats in the documentation: https://pandas.pydata.org/pandas-docs/stable/user_guide/indexing.html#returning-a-view-versus-a-copy\n",
      "  import sys\n"
     ]
    },
    {
     "data": {
      "text/html": [
       "<div>\n",
       "<style scoped>\n",
       "    .dataframe tbody tr th:only-of-type {\n",
       "        vertical-align: middle;\n",
       "    }\n",
       "\n",
       "    .dataframe tbody tr th {\n",
       "        vertical-align: top;\n",
       "    }\n",
       "\n",
       "    .dataframe thead th {\n",
       "        text-align: right;\n",
       "    }\n",
       "</style>\n",
       "<table border=\"1\" class=\"dataframe\">\n",
       "  <thead>\n",
       "    <tr style=\"text-align: right;\">\n",
       "      <th></th>\n",
       "      <th>binned_years</th>\n",
       "      <th>color_name</th>\n",
       "      <th>rgb</th>\n",
       "      <th>color_count</th>\n",
       "      <th>color_ratio</th>\n",
       "    </tr>\n",
       "  </thead>\n",
       "  <tbody>\n",
       "    <tr>\n",
       "      <th>0</th>\n",
       "      <td>1950s</td>\n",
       "      <td>Black</td>\n",
       "      <td>05131D</td>\n",
       "      <td>15</td>\n",
       "      <td>1.590668</td>\n",
       "    </tr>\n",
       "    <tr>\n",
       "      <th>1</th>\n",
       "      <td>1950s</td>\n",
       "      <td>Blue</td>\n",
       "      <td>0055BF</td>\n",
       "      <td>83</td>\n",
       "      <td>8.801697</td>\n",
       "    </tr>\n",
       "    <tr>\n",
       "      <th>2</th>\n",
       "      <td>1950s</td>\n",
       "      <td>Bright Green</td>\n",
       "      <td>4B9F4A</td>\n",
       "      <td>2</td>\n",
       "      <td>0.212089</td>\n",
       "    </tr>\n",
       "  </tbody>\n",
       "</table>\n",
       "</div>"
      ],
      "text/plain": [
       "  binned_years    color_name     rgb  color_count  color_ratio\n",
       "0        1950s         Black  05131D           15     1.590668\n",
       "1        1950s          Blue  0055BF           83     8.801697\n",
       "2        1950s  Bright Green  4B9F4A            2     0.212089"
      ]
     },
     "execution_count": 20,
     "metadata": {},
     "output_type": "execute_result"
    }
   ],
   "source": [
    "# Grouping stc by binned_years, color_name and rgb\n",
    "color_year = stc.groupby([\"binned_years\",\"color_name\",\"rgb\"]).agg(color_count = (\"color_name\",\"count\")).reset_index()\n",
    "\n",
    "# Creating a new column in color_year called color_ratio which is the ratio of that color used for that decade\n",
    "color_year[\"color_ratio\"] = 0.0\n",
    "for i in range(len(color_year)):\n",
    "    color_year[\"color_ratio\"][i] = (color_year[\"color_count\"][i]/color_year[color_year[\"binned_years\"] == color_year[\"binned_years\"][i]][\"color_count\"].sum())*100\n",
    "\n",
    "color_year.head(3)"
   ]
  },
  {
   "cell_type": "code",
   "execution_count": 21,
   "metadata": {
    "scrolled": false
   },
   "outputs": [
    {
     "data": {
      "image/png": "[encoded data removed]",
      "text/plain": [
       "<Figure size 720x540 with 1 Axes>"
      ]
     },
     "metadata": {},
     "output_type": "display_data"
    }
   ],
   "source": [
    "# Stacked barchart of colour used each decade in descending order\n",
    "y = color_year[\"binned_years\"].unique()\n",
    "fig, ax = plt.subplots(figsize=(10, 7.5))    \n",
    "for j in range(len(y)):\n",
    "    k = color_year[color_year[\"binned_years\"] == y[j]].sort_values(\"color_ratio\",ascending=False).reset_index().drop(\"index\",1)\n",
    "    sumk = 0\n",
    "    for i in range(len(k)):\n",
    "        plt.bar(y[j], k[\"color_ratio\"][i], 0.5, bottom = sumk, color = \"#\"+k[\"rgb\"][i] )\n",
    "        sumk += k[\"color_ratio\"][i]\n",
    "        \n",
    "plt.xlabel(\"Decade\")\n",
    "plt.ylabel(\"% of colour used\")\n",
    "plt.title(\"Percent of colour used based on decade in descending order\")\n",
    "\n",
    "axes = plt.gca()\n",
    "axes.set_ylim([0,100])\n",
    "plt.savefig('colours.png')"
   ]
  },
  {
   "cell_type": "markdown",
   "metadata": {},
   "source": [
    "The percentage of colours used graph was inspired from Carron, J. (2016). 67 Years of Lego Sets."
   ]
  },
  {
   "cell_type": "markdown",
   "metadata": {},
   "source": [
    "Next we create graphs to visualize how number of pieces, number of sets as well as unique number of themes have changed each decade"
   ]
  },
  {
   "cell_type": "code",
   "execution_count": 24,
   "metadata": {},
   "outputs": [
    {
     "data": {
      "text/html": [
       "<div>\n",
       "<style scoped>\n",
       "    .dataframe tbody tr th:only-of-type {\n",
       "        vertical-align: middle;\n",
       "    }\n",
       "\n",
       "    .dataframe tbody tr th {\n",
       "        vertical-align: top;\n",
       "    }\n",
       "\n",
       "    .dataframe thead th {\n",
       "        text-align: right;\n",
       "    }\n",
       "</style>\n",
       "<table border=\"1\" class=\"dataframe\">\n",
       "  <thead>\n",
       "    <tr style=\"text-align: right;\">\n",
       "      <th></th>\n",
       "      <th>binned_years</th>\n",
       "      <th>avg_num_part</th>\n",
       "      <th>unique_themes</th>\n",
       "      <th>sets_count</th>\n",
       "    </tr>\n",
       "  </thead>\n",
       "  <tbody>\n",
       "    <tr>\n",
       "      <th>0</th>\n",
       "      <td>1950s</td>\n",
       "      <td>33.265152</td>\n",
       "      <td>6</td>\n",
       "      <td>132</td>\n",
       "    </tr>\n",
       "    <tr>\n",
       "      <th>1</th>\n",
       "      <td>1960s</td>\n",
       "      <td>68.155844</td>\n",
       "      <td>21</td>\n",
       "      <td>308</td>\n",
       "    </tr>\n",
       "    <tr>\n",
       "      <th>2</th>\n",
       "      <td>1970s</td>\n",
       "      <td>113.367021</td>\n",
       "      <td>40</td>\n",
       "      <td>564</td>\n",
       "    </tr>\n",
       "  </tbody>\n",
       "</table>\n",
       "</div>"
      ],
      "text/plain": [
       "  binned_years  avg_num_part  unique_themes  sets_count\n",
       "0        1950s     33.265152              6         132\n",
       "1        1960s     68.155844             21         308\n",
       "2        1970s    113.367021             40         564"
      ]
     },
     "execution_count": 24,
     "metadata": {},
     "output_type": "execute_result"
    }
   ],
   "source": [
    "compare = s_t_inv.groupby([\"binned_years\"]).agg(avg_num_part = (\"num_parts\",\"mean\"), unique_themes = (\"theme_name\",\"nunique\"),sets_count=(\"theme_name\",\"count\")).reset_index()\n",
    "compare.head(3) # Dataset allowing us to compare number of pieces, number of sets and unique number of themes"
   ]
  },
  {
   "cell_type": "code",
   "execution_count": 25,
   "metadata": {
    "scrolled": true
   },
   "outputs": [
    {
     "data": {
      "image/png": "[encoded data removed]",
      "text/plain": [
       "<Figure size 576x396 with 2 Axes>"
      ]
     },
     "metadata": {},
     "output_type": "display_data"
    }
   ],
   "source": [
    "fig, ax1 = plt.subplots()\n",
    "\n",
    "width = 0.35\n",
    "\n",
    "color = '#F55942'\n",
    "ax1.bar(compare.binned_years, compare.sets_count, -width,facecolor='#F55942', edgecolor=\"black\",label='Number of sets',align='edge',zorder=1)\n",
    "ax1.set_ylabel('Number of sets', color=color)\n",
    "ax1.tick_params(axis='y', labelcolor=color)\n",
    "\n",
    "ax2 = ax1.twinx()\n",
    "ax2.plot(compare.binned_years, compare.avg_num_part,'black',marker='o',linestyle='-',markerfacecolor='grey',label='Average number of pieces',zorder=10)\n",
    "ax2.bar(compare.binned_years, compare.unique_themes, width,facecolor='#56F5C1', edgecolor=\"black\",label='Number of unique themes',align='edge')\n",
    "ax2.set_ylabel('Number of pieces and unique themes', color='black')\n",
    "ax2.grid(b=None)\n",
    "\n",
    "ax1.set_xlabel(\"Decade\")\n",
    "fig.legend(bbox_to_anchor=(0.4,0.8))\n",
    "fig.savefig('themes_parts.png')"
   ]
  },
  {
   "cell_type": "markdown",
   "metadata": {},
   "source": [
    "We see number of sets, average pieces and unique themes all increase each decade. "
   ]
  },
  {
   "cell_type": "markdown",
   "metadata": {},
   "source": [
    "### Analysing price\n",
    "\n",
    "The second dataset contains prices and is used to analyse how prices have changed.\n",
    "\n",
    "For data cleaning, unwanted columns are removed, all numeric null values were replaced with the mean value of that column, null values in the categorical column review_difficulty are replaced with ‘Average’ and rows missing a theme name were dropped since there were only 3."
   ]
  },
  {
   "cell_type": "code",
   "execution_count": 34,
   "metadata": {},
   "outputs": [],
   "source": [
    "lego_sets = pd.read_csv(\"lego_sets.csv\")\n",
    "lego_sets = lego_sets.drop(\"prod_desc\",1)\n",
    "lego_sets = lego_sets.drop(\"prod_long_desc\",1) #Removing unwanted columns\n",
    "lego_sets = lego_sets.drop(\"set_name\",1)"
   ]
  },
  {
   "cell_type": "code",
   "execution_count": 35,
   "metadata": {},
   "outputs": [
    {
     "data": {
      "text/plain": [
       "ages                    0\n",
       "list_price              0\n",
       "num_reviews          1620\n",
       "piece_count             0\n",
       "play_star_rating     1775\n",
       "prod_id                 0\n",
       "review_difficulty    2055\n",
       "star_rating          1620\n",
       "theme_name              3\n",
       "val_star_rating      1795\n",
       "country                 0\n",
       "dtype: int64"
      ]
     },
     "execution_count": 35,
     "metadata": {},
     "output_type": "execute_result"
    }
   ],
   "source": [
    "lego_sets.isnull().sum()"
   ]
  },
  {
   "cell_type": "code",
   "execution_count": 36,
   "metadata": {},
   "outputs": [],
   "source": [
    "# Dealing with null values \n",
    "lego_sets = lego_sets.fillna(lego_sets.mean()) # Filling numeric null values with mean of column"
   ]
  },
  {
   "cell_type": "code",
   "execution_count": 37,
   "metadata": {},
   "outputs": [
    {
     "data": {
      "text/plain": [
       "ages                    0\n",
       "list_price              0\n",
       "num_reviews             0\n",
       "piece_count             0\n",
       "play_star_rating        0\n",
       "prod_id                 0\n",
       "review_difficulty    2055\n",
       "star_rating             0\n",
       "theme_name              3\n",
       "val_star_rating         0\n",
       "country                 0\n",
       "dtype: int64"
      ]
     },
     "execution_count": 37,
     "metadata": {},
     "output_type": "execute_result"
    }
   ],
   "source": [
    "lego_sets.isnull().sum()"
   ]
  },
  {
   "cell_type": "code",
   "execution_count": 38,
   "metadata": {},
   "outputs": [],
   "source": [
    "# Dealing with null values \n",
    "lego_sets['review_difficulty'] = lego_sets['review_difficulty'].fillna('Average') # Replacing null values with Average"
   ]
  },
  {
   "cell_type": "code",
   "execution_count": 39,
   "metadata": {},
   "outputs": [
    {
     "data": {
      "text/plain": [
       "ages                 0\n",
       "list_price           0\n",
       "num_reviews          0\n",
       "piece_count          0\n",
       "play_star_rating     0\n",
       "prod_id              0\n",
       "review_difficulty    0\n",
       "star_rating          0\n",
       "theme_name           3\n",
       "val_star_rating      0\n",
       "country              0\n",
       "dtype: int64"
      ]
     },
     "execution_count": 39,
     "metadata": {},
     "output_type": "execute_result"
    }
   ],
   "source": [
    "lego_sets.isnull().sum()"
   ]
  },
  {
   "cell_type": "code",
   "execution_count": 40,
   "metadata": {},
   "outputs": [],
   "source": [
    "# Dealing with null values \n",
    "lego_sets = lego_sets.dropna() # Removing rows with no theme name"
   ]
  },
  {
   "cell_type": "code",
   "execution_count": 41,
   "metadata": {},
   "outputs": [
    {
     "data": {
      "text/plain": [
       "ages                 0\n",
       "list_price           0\n",
       "num_reviews          0\n",
       "piece_count          0\n",
       "play_star_rating     0\n",
       "prod_id              0\n",
       "review_difficulty    0\n",
       "star_rating          0\n",
       "theme_name           0\n",
       "val_star_rating      0\n",
       "country              0\n",
       "dtype: int64"
      ]
     },
     "execution_count": 41,
     "metadata": {},
     "output_type": "execute_result"
    }
   ],
   "source": [
    "lego_sets.isnull().sum()"
   ]
  },
  {
   "cell_type": "markdown",
   "metadata": {},
   "source": [
    "A separate dataset is created to anaylse prices in the United States since it had the most number of sets."
   ]
  },
  {
   "cell_type": "code",
   "execution_count": 27,
   "metadata": {},
   "outputs": [],
   "source": [
    "lego_us = lego_sets[lego_sets['country'] == \"US\"]\n",
    "lego_us = lego_us.drop('country', 1)"
   ]
  },
  {
   "cell_type": "markdown",
   "metadata": {},
   "source": [
    "Since sets.csv contains the binned years, merging lego_sets.csv and sets allows us to compare lego sets each decade.\n",
    "\n",
    "The 2 datasets can be merged on product id in lego_sets.csv and set_num in sets.csv, however, the set_num values in sets.csv is slightly different to product id in lego_us, so a new column is made in sets.csv to match so they can be merged. "
   ]
  },
  {
   "cell_type": "code",
   "execution_count": 44,
   "metadata": {},
   "outputs": [
    {
     "name": "stderr",
     "output_type": "stream",
     "text": [
      "C:\\Users\\youse\\Anaconda3\\lib\\site-packages\\ipykernel_launcher.py:3: SettingWithCopyWarning: \n",
      "A value is trying to be set on a copy of a slice from a DataFrame\n",
      "\n",
      "See the caveats in the documentation: https://pandas.pydata.org/pandas-docs/stable/user_guide/indexing.html#returning-a-view-versus-a-copy\n",
      "  This is separate from the ipykernel package so we can avoid doing imports until\n",
      "C:\\Users\\youse\\Anaconda3\\lib\\site-packages\\pandas\\core\\indexing.py:670: SettingWithCopyWarning: \n",
      "A value is trying to be set on a copy of a slice from a DataFrame\n",
      "\n",
      "See the caveats in the documentation: https://pandas.pydata.org/pandas-docs/stable/user_guide/indexing.html#returning-a-view-versus-a-copy\n",
      "  iloc._setitem_with_indexer(indexer, value)\n"
     ]
    },
    {
     "data": {
      "text/html": [
       "<div>\n",
       "<style scoped>\n",
       "    .dataframe tbody tr th:only-of-type {\n",
       "        vertical-align: middle;\n",
       "    }\n",
       "\n",
       "    .dataframe tbody tr th {\n",
       "        vertical-align: top;\n",
       "    }\n",
       "\n",
       "    .dataframe thead th {\n",
       "        text-align: right;\n",
       "    }\n",
       "</style>\n",
       "<table border=\"1\" class=\"dataframe\">\n",
       "  <thead>\n",
       "    <tr style=\"text-align: right;\">\n",
       "      <th></th>\n",
       "      <th>set_num</th>\n",
       "      <th>set_name</th>\n",
       "      <th>year</th>\n",
       "      <th>theme_id</th>\n",
       "      <th>num_parts</th>\n",
       "      <th>binned_years</th>\n",
       "      <th>prod_id</th>\n",
       "    </tr>\n",
       "  </thead>\n",
       "  <tbody>\n",
       "    <tr>\n",
       "      <th>0</th>\n",
       "      <td>00-1</td>\n",
       "      <td>Weetabix Castle</td>\n",
       "      <td>1970</td>\n",
       "      <td>414</td>\n",
       "      <td>471</td>\n",
       "      <td>1970s</td>\n",
       "      <td>0</td>\n",
       "    </tr>\n",
       "    <tr>\n",
       "      <th>1</th>\n",
       "      <td>0011-2</td>\n",
       "      <td>Town Mini-Figures</td>\n",
       "      <td>1978</td>\n",
       "      <td>84</td>\n",
       "      <td>12</td>\n",
       "      <td>1970s</td>\n",
       "      <td>11</td>\n",
       "    </tr>\n",
       "    <tr>\n",
       "      <th>2</th>\n",
       "      <td>0011-3</td>\n",
       "      <td>Castle 2 for 1 Bonus Offer</td>\n",
       "      <td>1987</td>\n",
       "      <td>199</td>\n",
       "      <td>2</td>\n",
       "      <td>1980s</td>\n",
       "      <td>11</td>\n",
       "    </tr>\n",
       "  </tbody>\n",
       "</table>\n",
       "</div>"
      ],
      "text/plain": [
       "  set_num                    set_name  year  theme_id  num_parts binned_years  \\\n",
       "0    00-1             Weetabix Castle  1970       414        471        1970s   \n",
       "1  0011-2           Town Mini-Figures  1978        84         12        1970s   \n",
       "2  0011-3  Castle 2 for 1 Bonus Offer  1987       199          2        1980s   \n",
       "\n",
       "  prod_id  \n",
       "0       0  \n",
       "1      11  \n",
       "2      11  "
      ]
     },
     "execution_count": 44,
     "metadata": {},
     "output_type": "execute_result"
    }
   ],
   "source": [
    "sets[\"prod_id\"] = 0\n",
    "for i in range(len(sets)):\n",
    "    sets[\"prod_id\"][i] = sets[\"set_num\"][i].split(\"-\")[0]\n",
    "\n",
    "sets.head(3)"
   ]
  },
  {
   "cell_type": "markdown",
   "metadata": {},
   "source": [
    "The product id in lego_sets.csv is converted to string so datasets can be merged"
   ]
  },
  {
   "cell_type": "code",
   "execution_count": 45,
   "metadata": {},
   "outputs": [],
   "source": [
    "lego_sets[\"prod_id\"] = lego_sets[\"prod_id\"].astype(\"int64\")\n",
    "lego_sets[\"prod_id\"] = lego_sets[\"prod_id\"].astype(\"string\")"
   ]
  },
  {
   "cell_type": "code",
   "execution_count": 47,
   "metadata": {},
   "outputs": [
    {
     "data": {
      "text/html": [
       "<div>\n",
       "<style scoped>\n",
       "    .dataframe tbody tr th:only-of-type {\n",
       "        vertical-align: middle;\n",
       "    }\n",
       "\n",
       "    .dataframe tbody tr th {\n",
       "        vertical-align: top;\n",
       "    }\n",
       "\n",
       "    .dataframe thead th {\n",
       "        text-align: right;\n",
       "    }\n",
       "</style>\n",
       "<table border=\"1\" class=\"dataframe\">\n",
       "  <thead>\n",
       "    <tr style=\"text-align: right;\">\n",
       "      <th></th>\n",
       "      <th>ages</th>\n",
       "      <th>list_price</th>\n",
       "      <th>num_reviews</th>\n",
       "      <th>piece_count</th>\n",
       "      <th>play_star_rating</th>\n",
       "      <th>prod_id</th>\n",
       "      <th>review_difficulty</th>\n",
       "      <th>star_rating</th>\n",
       "      <th>theme_name</th>\n",
       "      <th>val_star_rating</th>\n",
       "      <th>country</th>\n",
       "      <th>set_name</th>\n",
       "      <th>year</th>\n",
       "      <th>num_parts</th>\n",
       "      <th>binned_years</th>\n",
       "    </tr>\n",
       "  </thead>\n",
       "  <tbody>\n",
       "    <tr>\n",
       "      <th>0</th>\n",
       "      <td>6-12</td>\n",
       "      <td>29.9900</td>\n",
       "      <td>2.0</td>\n",
       "      <td>277.0</td>\n",
       "      <td>4.0</td>\n",
       "      <td>75823</td>\n",
       "      <td>Average</td>\n",
       "      <td>4.5</td>\n",
       "      <td>Angry Birds™</td>\n",
       "      <td>4.0</td>\n",
       "      <td>US</td>\n",
       "      <td>Bird Island Egg Heist</td>\n",
       "      <td>2016</td>\n",
       "      <td>282</td>\n",
       "      <td>2010s</td>\n",
       "    </tr>\n",
       "    <tr>\n",
       "      <th>1</th>\n",
       "      <td>6-12</td>\n",
       "      <td>31.1922</td>\n",
       "      <td>2.0</td>\n",
       "      <td>277.0</td>\n",
       "      <td>4.0</td>\n",
       "      <td>75823</td>\n",
       "      <td>Average</td>\n",
       "      <td>4.5</td>\n",
       "      <td>Angry Birds™</td>\n",
       "      <td>4.0</td>\n",
       "      <td>CA</td>\n",
       "      <td>Bird Island Egg Heist</td>\n",
       "      <td>2016</td>\n",
       "      <td>282</td>\n",
       "      <td>2010s</td>\n",
       "    </tr>\n",
       "    <tr>\n",
       "      <th>2</th>\n",
       "      <td>6-12</td>\n",
       "      <td>19.9900</td>\n",
       "      <td>2.0</td>\n",
       "      <td>168.0</td>\n",
       "      <td>4.0</td>\n",
       "      <td>75822</td>\n",
       "      <td>Easy</td>\n",
       "      <td>5.0</td>\n",
       "      <td>Angry Birds™</td>\n",
       "      <td>4.0</td>\n",
       "      <td>US</td>\n",
       "      <td>Piggy Plane Attack</td>\n",
       "      <td>2016</td>\n",
       "      <td>168</td>\n",
       "      <td>2010s</td>\n",
       "    </tr>\n",
       "  </tbody>\n",
       "</table>\n",
       "</div>"
      ],
      "text/plain": [
       "   ages  list_price  num_reviews  piece_count  play_star_rating prod_id  \\\n",
       "0  6-12     29.9900          2.0        277.0               4.0   75823   \n",
       "1  6-12     31.1922          2.0        277.0               4.0   75823   \n",
       "2  6-12     19.9900          2.0        168.0               4.0   75822   \n",
       "\n",
       "  review_difficulty  star_rating    theme_name  val_star_rating country  \\\n",
       "0           Average          4.5  Angry Birds™              4.0      US   \n",
       "1           Average          4.5  Angry Birds™              4.0      CA   \n",
       "2              Easy          5.0  Angry Birds™              4.0      US   \n",
       "\n",
       "                set_name  year  num_parts binned_years  \n",
       "0  Bird Island Egg Heist  2016        282        2010s  \n",
       "1  Bird Island Egg Heist  2016        282        2010s  \n",
       "2     Piggy Plane Attack  2016        168        2010s  "
      ]
     },
     "execution_count": 47,
     "metadata": {},
     "output_type": "execute_result"
    }
   ],
   "source": [
    "l_set = pd.merge(lego_sets,sets,on=\"prod_id\")\n",
    "l_set = l_set.drop(\"set_num\",1)\n",
    "l_set = l_set.drop(\"theme_id\",1)\n",
    "l_set.head(3)"
   ]
  },
  {
   "cell_type": "markdown",
   "metadata": {},
   "source": [
    "Next, a list of lego set IDs that are priced for the countries we want is made so we can compare prices for different countries fairly."
   ]
  },
  {
   "cell_type": "code",
   "execution_count": 48,
   "metadata": {},
   "outputs": [],
   "source": [
    "products = set(l_set[l_set[\"country\"] == 'US'].prod_id.unique())\n",
    "countries = ['CA', 'AU', 'AT', 'BE', 'CH', 'CZ', 'DE', 'DN', 'GB']\n",
    "for country in countries:\n",
    "    products = products & set(l_set[l_set[\"country\"] == country].prod_id.unique())    "
   ]
  },
  {
   "cell_type": "markdown",
   "metadata": {},
   "source": [
    "A dataset is made so we can compare means and standard deviations of prices for different countries each decade"
   ]
  },
  {
   "cell_type": "code",
   "execution_count": 49,
   "metadata": {},
   "outputs": [
    {
     "data": {
      "text/html": [
       "<div>\n",
       "<style scoped>\n",
       "    .dataframe tbody tr th:only-of-type {\n",
       "        vertical-align: middle;\n",
       "    }\n",
       "\n",
       "    .dataframe tbody tr th {\n",
       "        vertical-align: top;\n",
       "    }\n",
       "\n",
       "    .dataframe thead th {\n",
       "        text-align: right;\n",
       "    }\n",
       "</style>\n",
       "<table border=\"1\" class=\"dataframe\">\n",
       "  <thead>\n",
       "    <tr style=\"text-align: right;\">\n",
       "      <th></th>\n",
       "      <th></th>\n",
       "      <th>avg</th>\n",
       "      <th>var</th>\n",
       "    </tr>\n",
       "    <tr>\n",
       "      <th>binned_years</th>\n",
       "      <th>country</th>\n",
       "      <th></th>\n",
       "      <th></th>\n",
       "    </tr>\n",
       "  </thead>\n",
       "  <tbody>\n",
       "    <tr>\n",
       "      <th rowspan=\"10\" valign=\"top\">1990s</th>\n",
       "      <th>AT</th>\n",
       "      <td>10.662800</td>\n",
       "      <td>10.783378</td>\n",
       "    </tr>\n",
       "    <tr>\n",
       "      <th>AU</th>\n",
       "      <td>7.972400</td>\n",
       "      <td>8.061017</td>\n",
       "    </tr>\n",
       "    <tr>\n",
       "      <th>BE</th>\n",
       "      <td>10.662800</td>\n",
       "      <td>10.783378</td>\n",
       "    </tr>\n",
       "    <tr>\n",
       "      <th>CA</th>\n",
       "      <td>8.962200</td>\n",
       "      <td>9.376236</td>\n",
       "    </tr>\n",
       "    <tr>\n",
       "      <th>CH</th>\n",
       "      <td>10.608000</td>\n",
       "      <td>10.818734</td>\n",
       "    </tr>\n",
       "    <tr>\n",
       "      <th>CZ</th>\n",
       "      <td>10.032000</td>\n",
       "      <td>9.503515</td>\n",
       "    </tr>\n",
       "    <tr>\n",
       "      <th>DE</th>\n",
       "      <td>10.052800</td>\n",
       "      <td>9.920708</td>\n",
       "    </tr>\n",
       "    <tr>\n",
       "      <th>DN</th>\n",
       "      <td>9.000000</td>\n",
       "      <td>9.333810</td>\n",
       "    </tr>\n",
       "    <tr>\n",
       "      <th>GB</th>\n",
       "      <td>8.736000</td>\n",
       "      <td>8.414571</td>\n",
       "    </tr>\n",
       "    <tr>\n",
       "      <th>US</th>\n",
       "      <td>8.740000</td>\n",
       "      <td>8.838835</td>\n",
       "    </tr>\n",
       "    <tr>\n",
       "      <th rowspan=\"10\" valign=\"top\">2000s</th>\n",
       "      <th>AT</th>\n",
       "      <td>23.472800</td>\n",
       "      <td>15.540042</td>\n",
       "    </tr>\n",
       "    <tr>\n",
       "      <th>AU</th>\n",
       "      <td>21.082400</td>\n",
       "      <td>11.548916</td>\n",
       "    </tr>\n",
       "    <tr>\n",
       "      <th>BE</th>\n",
       "      <td>24.387800</td>\n",
       "      <td>17.253405</td>\n",
       "    </tr>\n",
       "    <tr>\n",
       "      <th>CA</th>\n",
       "      <td>19.492200</td>\n",
       "      <td>7.800000</td>\n",
       "    </tr>\n",
       "    <tr>\n",
       "      <th>CH</th>\n",
       "      <td>23.358000</td>\n",
       "      <td>15.867476</td>\n",
       "    </tr>\n",
       "    <tr>\n",
       "      <th>CZ</th>\n",
       "      <td>23.952000</td>\n",
       "      <td>16.970563</td>\n",
       "    </tr>\n",
       "    <tr>\n",
       "      <th>DE</th>\n",
       "      <td>24.387800</td>\n",
       "      <td>13.802724</td>\n",
       "    </tr>\n",
       "    <tr>\n",
       "      <th>DN</th>\n",
       "      <td>20.400000</td>\n",
       "      <td>11.341958</td>\n",
       "    </tr>\n",
       "    <tr>\n",
       "      <th>GB</th>\n",
       "      <td>25.186000</td>\n",
       "      <td>16.276568</td>\n",
       "    </tr>\n",
       "    <tr>\n",
       "      <th>US</th>\n",
       "      <td>18.990000</td>\n",
       "      <td>7.348469</td>\n",
       "    </tr>\n",
       "    <tr>\n",
       "      <th rowspan=\"10\" valign=\"top\">2010s</th>\n",
       "      <th>AT</th>\n",
       "      <td>93.423887</td>\n",
       "      <td>123.480288</td>\n",
       "    </tr>\n",
       "    <tr>\n",
       "      <th>AU</th>\n",
       "      <td>90.224698</td>\n",
       "      <td>112.606510</td>\n",
       "    </tr>\n",
       "    <tr>\n",
       "      <th>BE</th>\n",
       "      <td>99.417800</td>\n",
       "      <td>127.298721</td>\n",
       "    </tr>\n",
       "    <tr>\n",
       "      <th>CA</th>\n",
       "      <td>75.264429</td>\n",
       "      <td>97.312485</td>\n",
       "    </tr>\n",
       "    <tr>\n",
       "      <th>CH</th>\n",
       "      <td>93.959042</td>\n",
       "      <td>128.321852</td>\n",
       "    </tr>\n",
       "    <tr>\n",
       "      <th>CZ</th>\n",
       "      <td>103.551801</td>\n",
       "      <td>131.889190</td>\n",
       "    </tr>\n",
       "    <tr>\n",
       "      <th>DE</th>\n",
       "      <td>98.197800</td>\n",
       "      <td>126.721756</td>\n",
       "    </tr>\n",
       "    <tr>\n",
       "      <th>DN</th>\n",
       "      <td>78.944348</td>\n",
       "      <td>95.753395</td>\n",
       "    </tr>\n",
       "    <tr>\n",
       "      <th>GB</th>\n",
       "      <td>93.796348</td>\n",
       "      <td>117.528925</td>\n",
       "    </tr>\n",
       "    <tr>\n",
       "      <th>US</th>\n",
       "      <td>81.632857</td>\n",
       "      <td>115.823673</td>\n",
       "    </tr>\n",
       "  </tbody>\n",
       "</table>\n",
       "</div>"
      ],
      "text/plain": [
       "                             avg         var\n",
       "binned_years country                        \n",
       "1990s        AT        10.662800   10.783378\n",
       "             AU         7.972400    8.061017\n",
       "             BE        10.662800   10.783378\n",
       "             CA         8.962200    9.376236\n",
       "             CH        10.608000   10.818734\n",
       "             CZ        10.032000    9.503515\n",
       "             DE        10.052800    9.920708\n",
       "             DN         9.000000    9.333810\n",
       "             GB         8.736000    8.414571\n",
       "             US         8.740000    8.838835\n",
       "2000s        AT        23.472800   15.540042\n",
       "             AU        21.082400   11.548916\n",
       "             BE        24.387800   17.253405\n",
       "             CA        19.492200    7.800000\n",
       "             CH        23.358000   15.867476\n",
       "             CZ        23.952000   16.970563\n",
       "             DE        24.387800   13.802724\n",
       "             DN        20.400000   11.341958\n",
       "             GB        25.186000   16.276568\n",
       "             US        18.990000    7.348469\n",
       "2010s        AT        93.423887  123.480288\n",
       "             AU        90.224698  112.606510\n",
       "             BE        99.417800  127.298721\n",
       "             CA        75.264429   97.312485\n",
       "             CH        93.959042  128.321852\n",
       "             CZ       103.551801  131.889190\n",
       "             DE        98.197800  126.721756\n",
       "             DN        78.944348   95.753395\n",
       "             GB        93.796348  117.528925\n",
       "             US        81.632857  115.823673"
      ]
     },
     "execution_count": 49,
     "metadata": {},
     "output_type": "execute_result"
    }
   ],
   "source": [
    "countrys = ['GB','CA', 'AU', 'AT', 'BE', 'CH', 'CZ', 'DE', 'DN']\n",
    "price_var = l_set[(l_set['country'] == 'US')|(l_set['country'] == 'GB')|(l_set['country'] == 'CA')|(l_set['country'] == 'AU')|(l_set['country'] == 'AT')|(l_set['country'] == 'BE')|(l_set['country'] == 'CH')|(l_set['country'] == 'CZ')|(l_set['country'] == 'DN')|(l_set['country'] == 'DE')]\n",
    "p_Var = price_var[price_var[\"prod_id\"].isin(products)]\n",
    "p_Var.groupby([\"binned_years\",\"country\"]).agg(avg = (\"list_price\",\"mean\"),var = (\"list_price\",\"std\"))"
   ]
  },
  {
   "cell_type": "markdown",
   "metadata": {},
   "source": [
    "Using the list of Lego sets available for all countries, we create a dataset with those lego sets for countries we are interested in and we plot line graphs for each country representing the average price each decade."
   ]
  },
  {
   "cell_type": "code",
   "execution_count": 50,
   "metadata": {},
   "outputs": [],
   "source": [
    "fair= l_set[l_set[\"prod_id\"].isin(products)]"
   ]
  },
  {
   "cell_type": "code",
   "execution_count": 51,
   "metadata": {},
   "outputs": [
    {
     "data": {
      "image/png": "[encoded data removed]",
      "text/plain": [
       "<Figure size 576x396 with 1 Axes>"
      ]
     },
     "metadata": {},
     "output_type": "display_data"
    }
   ],
   "source": [
    "countries = ['CA', 'AU', 'AT', 'BE', 'CH', 'CZ', 'DE', 'DN']\n",
    "\n",
    "fig, ax1 = plt.subplots()\n",
    "\n",
    "GB = fair[fair[\"country\"] == 'GB'].groupby(\"binned_years\").agg(avg_price=(\"list_price\",\"mean\")).reset_index()\n",
    "US = fair[fair[\"country\"] == 'US'].groupby(\"binned_years\").agg(avg_price=(\"list_price\",\"mean\")).reset_index()\n",
    "\n",
    "ax1.plot(GB.binned_years, GB.avg_price, marker='', color='orange', linewidth=6, alpha=0.7, label = 'UK')\n",
    "ax1.plot(US.binned_years, US.avg_price, marker='', color='green', linewidth=6, alpha=0.7, label = 'US')\n",
    "\n",
    "for country in countries:\n",
    "    c = fair[fair[\"country\"] == country].groupby(\"binned_years\").agg(avg_price=(\"list_price\",\"mean\")).reset_index()\n",
    "    ax1.plot(c.binned_years,c.avg_price,label=country)\n",
    "    \n",
    "plt.legend()\n",
    "plt.title('Average price of sets based on country and decade')\n",
    "plt.xlabel(\"Decade\")\n",
    "plt.ylabel(\"Average price /$\")\n",
    "plt.savefig(\"price_country_decade.png\")"
   ]
  },
  {
   "cell_type": "markdown",
   "metadata": {},
   "source": [
    "Finally, we use the lego_us dataset to compare prices of lego sets as well as build linear regression models."
   ]
  },
  {
   "cell_type": "code",
   "execution_count": 52,
   "metadata": {},
   "outputs": [
    {
     "data": {
      "image/png": "[encoded data removed]",
      "text/plain": [
       "<Figure size 576x396 with 3 Axes>"
      ]
     },
     "metadata": {},
     "output_type": "display_data"
    }
   ],
   "source": [
    "fig, axs = plt.subplots(1, 3)\n",
    "usbox = [l_set[(l_set[\"binned_years\"] == '1990s') & (l_set[\"country\"] == 'US')]['list_price'], l_set[(l_set[\"binned_years\"] == '2000s') & (l_set[\"country\"] == 'US')]['list_price'], l_set[(l_set[\"binned_years\"] == '2010s') & (l_set[\"country\"] == 'US')]['list_price']]\n",
    "\n",
    "# basic plot\n",
    "axs[0].boxplot(usbox[0])\n",
    "axs[0].set_title(\"1990s\")\n",
    "axs[0].set_ylabel(\"Price /$\")\n",
    "axs[0].set_xticks([])\n",
    "# notched plot\n",
    "axs[1].boxplot(usbox[1])\n",
    "axs[1].set_title(\"2000s\")\n",
    "axs[1].set_xticks([])\n",
    "# change outlier point symbols\n",
    "axs[2].boxplot(usbox[2])\n",
    "axs[2].set_title(\"2010s\")\n",
    "axs[2].set_xticks([])\n",
    "\n",
    "fig.suptitle(\"Boxplot of set prices in the US\")\n",
    "\n",
    "plt.savefig(\"price_boxplot.png\")"
   ]
  },
  {
   "cell_type": "markdown",
   "metadata": {},
   "source": [
    "Plotting a boxplot of lego sets each decade shows outliers which are a lot more frequent in the 2010s."
   ]
  },
  {
   "cell_type": "markdown",
   "metadata": {},
   "source": [
    "We create a new dataset using One hot encoding on categorical columns to have more variables for linear regression."
   ]
  },
  {
   "cell_type": "code",
   "execution_count": 54,
   "metadata": {},
   "outputs": [
    {
     "data": {
      "text/html": [
       "<div>\n",
       "<style scoped>\n",
       "    .dataframe tbody tr th:only-of-type {\n",
       "        vertical-align: middle;\n",
       "    }\n",
       "\n",
       "    .dataframe tbody tr th {\n",
       "        vertical-align: top;\n",
       "    }\n",
       "\n",
       "    .dataframe thead th {\n",
       "        text-align: right;\n",
       "    }\n",
       "</style>\n",
       "<table border=\"1\" class=\"dataframe\">\n",
       "  <thead>\n",
       "    <tr style=\"text-align: right;\">\n",
       "      <th></th>\n",
       "      <th>list_price</th>\n",
       "      <th>num_reviews</th>\n",
       "      <th>piece_count</th>\n",
       "      <th>play_star_rating</th>\n",
       "      <th>prod_id</th>\n",
       "      <th>star_rating</th>\n",
       "      <th>val_star_rating</th>\n",
       "      <th>10+</th>\n",
       "      <th>10-14</th>\n",
       "      <th>10-16</th>\n",
       "      <th>...</th>\n",
       "      <th>Stygimoloch Breakout</th>\n",
       "      <th>T. rex Transport</th>\n",
       "      <th>THE LEGO® BATMAN MOVIE</th>\n",
       "      <th>THE LEGO® NINJAGO® MOVIE™</th>\n",
       "      <th>Technic</th>\n",
       "      <th>Average</th>\n",
       "      <th>Challenging</th>\n",
       "      <th>Easy</th>\n",
       "      <th>Very Challenging</th>\n",
       "      <th>Very Easy</th>\n",
       "    </tr>\n",
       "  </thead>\n",
       "  <tbody>\n",
       "    <tr>\n",
       "      <th>0</th>\n",
       "      <td>29.99</td>\n",
       "      <td>2.0</td>\n",
       "      <td>277.0</td>\n",
       "      <td>4.0</td>\n",
       "      <td>75823.0</td>\n",
       "      <td>4.5</td>\n",
       "      <td>4.0</td>\n",
       "      <td>0</td>\n",
       "      <td>0</td>\n",
       "      <td>0</td>\n",
       "      <td>...</td>\n",
       "      <td>0</td>\n",
       "      <td>0</td>\n",
       "      <td>0</td>\n",
       "      <td>0</td>\n",
       "      <td>0</td>\n",
       "      <td>1</td>\n",
       "      <td>0</td>\n",
       "      <td>0</td>\n",
       "      <td>0</td>\n",
       "      <td>0</td>\n",
       "    </tr>\n",
       "    <tr>\n",
       "      <th>1</th>\n",
       "      <td>19.99</td>\n",
       "      <td>2.0</td>\n",
       "      <td>168.0</td>\n",
       "      <td>4.0</td>\n",
       "      <td>75822.0</td>\n",
       "      <td>5.0</td>\n",
       "      <td>4.0</td>\n",
       "      <td>0</td>\n",
       "      <td>0</td>\n",
       "      <td>0</td>\n",
       "      <td>...</td>\n",
       "      <td>0</td>\n",
       "      <td>0</td>\n",
       "      <td>0</td>\n",
       "      <td>0</td>\n",
       "      <td>0</td>\n",
       "      <td>0</td>\n",
       "      <td>0</td>\n",
       "      <td>1</td>\n",
       "      <td>0</td>\n",
       "      <td>0</td>\n",
       "    </tr>\n",
       "    <tr>\n",
       "      <th>2</th>\n",
       "      <td>12.99</td>\n",
       "      <td>11.0</td>\n",
       "      <td>74.0</td>\n",
       "      <td>4.3</td>\n",
       "      <td>75821.0</td>\n",
       "      <td>4.3</td>\n",
       "      <td>4.1</td>\n",
       "      <td>0</td>\n",
       "      <td>0</td>\n",
       "      <td>0</td>\n",
       "      <td>...</td>\n",
       "      <td>0</td>\n",
       "      <td>0</td>\n",
       "      <td>0</td>\n",
       "      <td>0</td>\n",
       "      <td>0</td>\n",
       "      <td>0</td>\n",
       "      <td>0</td>\n",
       "      <td>1</td>\n",
       "      <td>0</td>\n",
       "      <td>0</td>\n",
       "    </tr>\n",
       "    <tr>\n",
       "      <th>3</th>\n",
       "      <td>99.99</td>\n",
       "      <td>23.0</td>\n",
       "      <td>1032.0</td>\n",
       "      <td>3.6</td>\n",
       "      <td>21030.0</td>\n",
       "      <td>4.6</td>\n",
       "      <td>4.3</td>\n",
       "      <td>0</td>\n",
       "      <td>0</td>\n",
       "      <td>0</td>\n",
       "      <td>...</td>\n",
       "      <td>0</td>\n",
       "      <td>0</td>\n",
       "      <td>0</td>\n",
       "      <td>0</td>\n",
       "      <td>0</td>\n",
       "      <td>1</td>\n",
       "      <td>0</td>\n",
       "      <td>0</td>\n",
       "      <td>0</td>\n",
       "      <td>0</td>\n",
       "    </tr>\n",
       "    <tr>\n",
       "      <th>4</th>\n",
       "      <td>79.99</td>\n",
       "      <td>14.0</td>\n",
       "      <td>744.0</td>\n",
       "      <td>3.2</td>\n",
       "      <td>21035.0</td>\n",
       "      <td>4.6</td>\n",
       "      <td>4.1</td>\n",
       "      <td>0</td>\n",
       "      <td>0</td>\n",
       "      <td>0</td>\n",
       "      <td>...</td>\n",
       "      <td>0</td>\n",
       "      <td>0</td>\n",
       "      <td>0</td>\n",
       "      <td>0</td>\n",
       "      <td>0</td>\n",
       "      <td>0</td>\n",
       "      <td>1</td>\n",
       "      <td>0</td>\n",
       "      <td>0</td>\n",
       "      <td>0</td>\n",
       "    </tr>\n",
       "    <tr>\n",
       "      <th>...</th>\n",
       "      <td>...</td>\n",
       "      <td>...</td>\n",
       "      <td>...</td>\n",
       "      <td>...</td>\n",
       "      <td>...</td>\n",
       "      <td>...</td>\n",
       "      <td>...</td>\n",
       "      <td>...</td>\n",
       "      <td>...</td>\n",
       "      <td>...</td>\n",
       "      <td>...</td>\n",
       "      <td>...</td>\n",
       "      <td>...</td>\n",
       "      <td>...</td>\n",
       "      <td>...</td>\n",
       "      <td>...</td>\n",
       "      <td>...</td>\n",
       "      <td>...</td>\n",
       "      <td>...</td>\n",
       "      <td>...</td>\n",
       "      <td>...</td>\n",
       "    </tr>\n",
       "    <tr>\n",
       "      <th>812</th>\n",
       "      <td>9.99</td>\n",
       "      <td>1.0</td>\n",
       "      <td>48.0</td>\n",
       "      <td>5.0</td>\n",
       "      <td>70628.0</td>\n",
       "      <td>5.0</td>\n",
       "      <td>5.0</td>\n",
       "      <td>0</td>\n",
       "      <td>0</td>\n",
       "      <td>0</td>\n",
       "      <td>...</td>\n",
       "      <td>0</td>\n",
       "      <td>0</td>\n",
       "      <td>0</td>\n",
       "      <td>1</td>\n",
       "      <td>0</td>\n",
       "      <td>0</td>\n",
       "      <td>0</td>\n",
       "      <td>0</td>\n",
       "      <td>0</td>\n",
       "      <td>1</td>\n",
       "    </tr>\n",
       "    <tr>\n",
       "      <th>813</th>\n",
       "      <td>9.99</td>\n",
       "      <td>11.0</td>\n",
       "      <td>109.0</td>\n",
       "      <td>4.5</td>\n",
       "      <td>70606.0</td>\n",
       "      <td>4.7</td>\n",
       "      <td>4.8</td>\n",
       "      <td>0</td>\n",
       "      <td>0</td>\n",
       "      <td>0</td>\n",
       "      <td>...</td>\n",
       "      <td>0</td>\n",
       "      <td>0</td>\n",
       "      <td>0</td>\n",
       "      <td>1</td>\n",
       "      <td>0</td>\n",
       "      <td>0</td>\n",
       "      <td>0</td>\n",
       "      <td>1</td>\n",
       "      <td>0</td>\n",
       "      <td>0</td>\n",
       "    </tr>\n",
       "    <tr>\n",
       "      <th>814</th>\n",
       "      <td>9.99</td>\n",
       "      <td>7.0</td>\n",
       "      <td>102.0</td>\n",
       "      <td>4.0</td>\n",
       "      <td>41487.0</td>\n",
       "      <td>5.0</td>\n",
       "      <td>4.7</td>\n",
       "      <td>1</td>\n",
       "      <td>0</td>\n",
       "      <td>0</td>\n",
       "      <td>...</td>\n",
       "      <td>0</td>\n",
       "      <td>0</td>\n",
       "      <td>0</td>\n",
       "      <td>0</td>\n",
       "      <td>0</td>\n",
       "      <td>0</td>\n",
       "      <td>0</td>\n",
       "      <td>1</td>\n",
       "      <td>0</td>\n",
       "      <td>0</td>\n",
       "    </tr>\n",
       "    <tr>\n",
       "      <th>815</th>\n",
       "      <td>9.99</td>\n",
       "      <td>5.0</td>\n",
       "      <td>89.0</td>\n",
       "      <td>3.2</td>\n",
       "      <td>41488.0</td>\n",
       "      <td>4.4</td>\n",
       "      <td>4.0</td>\n",
       "      <td>1</td>\n",
       "      <td>0</td>\n",
       "      <td>0</td>\n",
       "      <td>...</td>\n",
       "      <td>0</td>\n",
       "      <td>0</td>\n",
       "      <td>0</td>\n",
       "      <td>0</td>\n",
       "      <td>0</td>\n",
       "      <td>0</td>\n",
       "      <td>0</td>\n",
       "      <td>0</td>\n",
       "      <td>0</td>\n",
       "      <td>1</td>\n",
       "    </tr>\n",
       "    <tr>\n",
       "      <th>816</th>\n",
       "      <td>3.99</td>\n",
       "      <td>22.0</td>\n",
       "      <td>8.0</td>\n",
       "      <td>4.3</td>\n",
       "      <td>71019.0</td>\n",
       "      <td>4.3</td>\n",
       "      <td>4.1</td>\n",
       "      <td>0</td>\n",
       "      <td>0</td>\n",
       "      <td>0</td>\n",
       "      <td>...</td>\n",
       "      <td>0</td>\n",
       "      <td>0</td>\n",
       "      <td>0</td>\n",
       "      <td>0</td>\n",
       "      <td>0</td>\n",
       "      <td>0</td>\n",
       "      <td>0</td>\n",
       "      <td>0</td>\n",
       "      <td>0</td>\n",
       "      <td>1</td>\n",
       "    </tr>\n",
       "  </tbody>\n",
       "</table>\n",
       "<p>817 rows × 82 columns</p>\n",
       "</div>"
      ],
      "text/plain": [
       "     list_price  num_reviews  piece_count  play_star_rating  prod_id  \\\n",
       "0         29.99          2.0        277.0               4.0  75823.0   \n",
       "1         19.99          2.0        168.0               4.0  75822.0   \n",
       "2         12.99         11.0         74.0               4.3  75821.0   \n",
       "3         99.99         23.0       1032.0               3.6  21030.0   \n",
       "4         79.99         14.0        744.0               3.2  21035.0   \n",
       "..          ...          ...          ...               ...      ...   \n",
       "812        9.99          1.0         48.0               5.0  70628.0   \n",
       "813        9.99         11.0        109.0               4.5  70606.0   \n",
       "814        9.99          7.0        102.0               4.0  41487.0   \n",
       "815        9.99          5.0         89.0               3.2  41488.0   \n",
       "816        3.99         22.0          8.0               4.3  71019.0   \n",
       "\n",
       "     star_rating  val_star_rating  10+  10-14  10-16  ...  \\\n",
       "0            4.5              4.0    0      0      0  ...   \n",
       "1            5.0              4.0    0      0      0  ...   \n",
       "2            4.3              4.1    0      0      0  ...   \n",
       "3            4.6              4.3    0      0      0  ...   \n",
       "4            4.6              4.1    0      0      0  ...   \n",
       "..           ...              ...  ...    ...    ...  ...   \n",
       "812          5.0              5.0    0      0      0  ...   \n",
       "813          4.7              4.8    0      0      0  ...   \n",
       "814          5.0              4.7    1      0      0  ...   \n",
       "815          4.4              4.0    1      0      0  ...   \n",
       "816          4.3              4.1    0      0      0  ...   \n",
       "\n",
       "     Stygimoloch Breakout  T. rex Transport  THE LEGO® BATMAN MOVIE  \\\n",
       "0                       0                 0                       0   \n",
       "1                       0                 0                       0   \n",
       "2                       0                 0                       0   \n",
       "3                       0                 0                       0   \n",
       "4                       0                 0                       0   \n",
       "..                    ...               ...                     ...   \n",
       "812                     0                 0                       0   \n",
       "813                     0                 0                       0   \n",
       "814                     0                 0                       0   \n",
       "815                     0                 0                       0   \n",
       "816                     0                 0                       0   \n",
       "\n",
       "     THE LEGO® NINJAGO® MOVIE™  Technic  Average  Challenging  Easy  \\\n",
       "0                            0        0        1            0     0   \n",
       "1                            0        0        0            0     1   \n",
       "2                            0        0        0            0     1   \n",
       "3                            0        0        1            0     0   \n",
       "4                            0        0        0            1     0   \n",
       "..                         ...      ...      ...          ...   ...   \n",
       "812                          1        0        0            0     0   \n",
       "813                          1        0        0            0     1   \n",
       "814                          0        0        0            0     1   \n",
       "815                          0        0        0            0     0   \n",
       "816                          0        0        0            0     0   \n",
       "\n",
       "     Very Challenging  Very Easy  \n",
       "0                   0          0  \n",
       "1                   0          0  \n",
       "2                   0          0  \n",
       "3                   0          0  \n",
       "4                   0          0  \n",
       "..                ...        ...  \n",
       "812                 0          1  \n",
       "813                 0          0  \n",
       "814                 0          0  \n",
       "815                 0          1  \n",
       "816                 0          1  \n",
       "\n",
       "[817 rows x 82 columns]"
      ]
     },
     "execution_count": 54,
     "metadata": {},
     "output_type": "execute_result"
    }
   ],
   "source": [
    "lego_us_enc = pd.get_dummies(data=lego_us, columns=[\"ages\",\"theme_name\",\"review_difficulty\"],prefix='',prefix_sep='')\n",
    "lego_us_enc"
   ]
  },
  {
   "cell_type": "markdown",
   "metadata": {},
   "source": [
    "Correlation of variables with list price tells us which variables most affect the price of a Lego set"
   ]
  },
  {
   "cell_type": "code",
   "execution_count": 55,
   "metadata": {},
   "outputs": [
    {
     "data": {
      "text/html": [
       "<div>\n",
       "<style scoped>\n",
       "    .dataframe tbody tr th:only-of-type {\n",
       "        vertical-align: middle;\n",
       "    }\n",
       "\n",
       "    .dataframe tbody tr th {\n",
       "        vertical-align: top;\n",
       "    }\n",
       "\n",
       "    .dataframe thead th {\n",
       "        text-align: right;\n",
       "    }\n",
       "</style>\n",
       "<table border=\"1\" class=\"dataframe\">\n",
       "  <thead>\n",
       "    <tr style=\"text-align: right;\">\n",
       "      <th></th>\n",
       "      <th>list_price</th>\n",
       "    </tr>\n",
       "  </thead>\n",
       "  <tbody>\n",
       "    <tr>\n",
       "      <th>list_price</th>\n",
       "      <td>1.000000</td>\n",
       "    </tr>\n",
       "    <tr>\n",
       "      <th>piece_count</th>\n",
       "      <td>0.863959</td>\n",
       "    </tr>\n",
       "    <tr>\n",
       "      <th>Challenging</th>\n",
       "      <td>0.492232</td>\n",
       "    </tr>\n",
       "    <tr>\n",
       "      <th>SERIOUS PLAY®</th>\n",
       "      <td>0.458823</td>\n",
       "    </tr>\n",
       "    <tr>\n",
       "      <th>16+</th>\n",
       "      <td>0.454084</td>\n",
       "    </tr>\n",
       "    <tr>\n",
       "      <th>prod_id</th>\n",
       "      <td>0.439090</td>\n",
       "    </tr>\n",
       "    <tr>\n",
       "      <th>num_reviews</th>\n",
       "      <td>0.424305</td>\n",
       "    </tr>\n",
       "    <tr>\n",
       "      <th>6+</th>\n",
       "      <td>0.300810</td>\n",
       "    </tr>\n",
       "    <tr>\n",
       "      <th>14+</th>\n",
       "      <td>0.300395</td>\n",
       "    </tr>\n",
       "    <tr>\n",
       "      <th>Creator Expert</th>\n",
       "      <td>0.256458</td>\n",
       "    </tr>\n",
       "    <tr>\n",
       "      <th>11-16</th>\n",
       "      <td>0.158243</td>\n",
       "    </tr>\n",
       "    <tr>\n",
       "      <th>9-14</th>\n",
       "      <td>0.127637</td>\n",
       "    </tr>\n",
       "  </tbody>\n",
       "</table>\n",
       "</div>"
      ],
      "text/plain": [
       "                list_price\n",
       "list_price        1.000000\n",
       "piece_count       0.863959\n",
       "Challenging       0.492232\n",
       "SERIOUS PLAY®     0.458823\n",
       "16+               0.454084\n",
       "prod_id           0.439090\n",
       "num_reviews       0.424305\n",
       "6+                0.300810\n",
       "14+               0.300395\n",
       "Creator Expert    0.256458\n",
       "11-16             0.158243\n",
       "9-14              0.127637"
      ]
     },
     "execution_count": 55,
     "metadata": {},
     "output_type": "execute_result"
    }
   ],
   "source": [
    "lego_us_enc.corr()[['list_price']].sort_values(by=\"list_price\",ascending = False).head(12)"
   ]
  },
  {
   "cell_type": "markdown",
   "metadata": {},
   "source": [
    "Next we start building our simple linear regression model. We use a train test split initially to get the hyperparameters and plot a graph to compare with actual prices. For simple linear regression, we use 1 predictor, piece count, and we want to predict list price."
   ]
  },
  {
   "cell_type": "code",
   "execution_count": 62,
   "metadata": {},
   "outputs": [],
   "source": [
    "#Setting Variables for simple linear regression\n",
    "X_us = lego_us_enc.iloc[:,1:]\n",
    "Y_us = lego_us_enc[[\"list_price\"]]"
   ]
  },
  {
   "cell_type": "code",
   "execution_count": 63,
   "metadata": {},
   "outputs": [
    {
     "data": {
      "text/plain": [
       "(array([[0.08822166]]), array([10.12793822]))"
      ]
     },
     "execution_count": 63,
     "metadata": {},
     "output_type": "execute_result"
    }
   ],
   "source": [
    "# Train test split\n",
    "Xl_train, Xl_test, yl_train, yl_test = train_test_split(X_us[[\"piece_count\"]], Y_us, test_size=0.25)\n",
    "\n",
    "regl = LinearRegression().fit(Xl_train , yl_train)\n",
    "regl.coef_, regl.intercept_"
   ]
  },
  {
   "cell_type": "code",
   "execution_count": 68,
   "metadata": {},
   "outputs": [],
   "source": [
    "line = regl.predict(X_us[[\"piece_count\"]])"
   ]
  },
  {
   "cell_type": "markdown",
   "metadata": {},
   "source": [
    "Created an array of Y coordinates which make the line of best fit."
   ]
  },
  {
   "cell_type": "code",
   "execution_count": 69,
   "metadata": {},
   "outputs": [
    {
     "data": {
      "image/png": "[encoded data removed]",
      "text/plain": [
       "<Figure size 576x396 with 1 Axes>"
      ]
     },
     "metadata": {},
     "output_type": "display_data"
    }
   ],
   "source": [
    "X_us = lego_us_enc.iloc[:,1:]\n",
    "Y_us = lego_us_enc.iloc[:,0]\n",
    "price = Y_us\n",
    "piece_count = X_us.piece_count\n",
    "p_IQR = price.describe()['75%'] - price.describe()['25%']\n",
    "a_IQR = piece_count.describe()['75%'] - piece_count.describe()['25%']\n",
    "p_min, p_max = price.describe()['25%'] - 1.5*p_IQR, price.describe()['75%'] + 1.5*p_IQR\n",
    "a_min, a_max = piece_count.describe()['25%'] - 1.5*a_IQR, piece_count.describe()['75%'] + 1.5*a_IQR\n",
    "for i in range(len(X_us)):\n",
    "    if price[i] < p_min or price[i] > p_max or piece_count[i] < a_min or piece_count[i] > a_max:\n",
    "        plt.plot(piece_count[i], price[i],'ro',alpha = 0.4)\n",
    "    else:\n",
    "        plt.plot(piece_count[i], price[i],'co',alpha=0.4)\n",
    "\n",
    "plt.plot(piece_count[0], price[0],'ro',alpha = 0.4,label='Outlier')\n",
    "plt.plot(piece_count, line, 'black')        \n",
    "plt.xlabel(\"Number of pieces\")\n",
    "plt.ylabel(\"Price / $\")\n",
    "plt.title(\"Price based on number of pieces\")\n",
    "plt.legend()\n",
    "plt.savefig(\"s_l_r.png\")"
   ]
  },
  {
   "cell_type": "markdown",
   "metadata": {},
   "source": [
    "Next i used 10 fold cross validation on simple linear regression, and calculated the mean squared error as well as average R squared value"
   ]
  },
  {
   "cell_type": "code",
   "execution_count": 71,
   "metadata": {},
   "outputs": [
    {
     "data": {
      "text/plain": [
       "(1479.288908075482, 0.7494819234565984)"
      ]
     },
     "execution_count": 71,
     "metadata": {},
     "output_type": "execute_result"
    }
   ],
   "source": [
    "reg = LinearRegression()\n",
    "scoresl = cross_val_score(regl, X_us[[\"piece_count\"]], Y_us, cv = 10)\n",
    "predictionsl = cross_val_predict(reg, X_us[[\"piece_count\"]], Y_us, cv=10)\n",
    "mean_squared_error(Y_us,predictionsl),scoresl.mean()"
   ]
  },
  {
   "cell_type": "markdown",
   "metadata": {},
   "source": [
    "Repeated 10 fold cross validation on multiple linear regression with predictors being the top 10 highly correlated variables with list price excluding product id"
   ]
  },
  {
   "cell_type": "code",
   "execution_count": 72,
   "metadata": {},
   "outputs": [],
   "source": [
    "# Multiple linear regression using top 10 highest correlated variables \n",
    "top_10 = ['piece_count','Challenging','SERIOUS PLAY®','16+','num_reviews', '6+','14+','Creator Expert', '11-16','9-14']\n",
    "X_us_top = lego_us_enc[top_10]"
   ]
  },
  {
   "cell_type": "code",
   "execution_count": 73,
   "metadata": {},
   "outputs": [
    {
     "data": {
      "text/plain": [
       "(1437.7342922371085, 0.7526720988671037)"
      ]
     },
     "execution_count": 73,
     "metadata": {},
     "output_type": "execute_result"
    }
   ],
   "source": [
    "scores = cross_val_score(reg, X_us_top, Y_us, cv = 10)\n",
    "predictions = cross_val_predict(reg, X_us_top, Y_us, cv=10)\n",
    "mean_squared_error(Y_us, predictions),scores.mean()"
   ]
  },
  {
   "cell_type": "markdown",
   "metadata": {},
   "source": [
    "Comparing mean squared error and average R squared value of simple linear regression and multiple linear regression, we see that multiple linear regression has a lower mean squared error and higher R squared values suggesting its a better model to use to predict the price of a Lego set."
   ]
  }
 ],
 "metadata": {
  "kernelspec": {
   "display_name": "Python 3",
   "language": "python",
   "name": "python3"
  },
  "language_info": {
   "codemirror_mode": {
    "name": "ipython",
    "version": 3
   },
   "file_extension": ".py",
   "mimetype": "text/x-python",
   "name": "python",
   "nbconvert_exporter": "python",
   "pygments_lexer": "ipython3",
   "version": "3.7.1"
  }
 },
 "nbformat": 4,
 "nbformat_minor": 4
}
